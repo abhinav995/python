{
 "cells": [
  {
   "cell_type": "code",
   "execution_count": 11,
   "metadata": {},
   "outputs": [
    {
     "name": "stdout",
     "output_type": "stream",
     "text": [
      "['apple', 'grape', 'guava', 1, 3]\n"
     ]
    }
   ],
   "source": [
    "list1=[\"apple\",\"grape\",\"guava\",1,3]\n",
    "print(list1)"
   ]
  },
  {
   "cell_type": "code",
   "execution_count": 12,
   "metadata": {},
   "outputs": [
    {
     "name": "stdout",
     "output_type": "stream",
     "text": [
      "['apple', 'grape', 'guava', 1, 3]\n"
     ]
    }
   ],
   "source": [
    "list1=[\"apple\",\"grape\",\"guava\",1,3]\n",
    "print(list1)\n"
   ]
  },
  {
   "cell_type": "code",
   "execution_count": 13,
   "metadata": {},
   "outputs": [
    {
     "name": "stdout",
     "output_type": "stream",
     "text": [
      "29\n"
     ]
    }
   ],
   "source": [
    "# find total sum\n",
    "a=[1,3,4,7,5,9]\n",
    "total=0\n",
    "for i in a:\n",
    "    total=total+i\n",
    "print(total)"
   ]
  },
  {
   "cell_type": "code",
   "execution_count": 15,
   "metadata": {},
   "outputs": [
    {
     "name": "stdout",
     "output_type": "stream",
     "text": [
      "30\n"
     ]
    }
   ],
   "source": [
    "\n",
    "#find largest number\n",
    "z=[10,15,20,30,25,5]\n",
    "s=sorted(z)\n",
    "print(s[-1])"
   ]
  },
  {
   "cell_type": "code",
   "execution_count": 16,
   "metadata": {},
   "outputs": [
    {
     "name": "stdout",
     "output_type": "stream",
     "text": [
      "30\n"
     ]
    }
   ],
   "source": [
    "#find largest number\n",
    "z=[10,15,20,30,25,5]\n",
    "largest=10\n",
    "for i in z:\n",
    "    if i>largest:\n",
    "        largest=i\n",
    "print(largest)  "
   ]
  },
  {
   "cell_type": "code",
   "execution_count": 19,
   "metadata": {},
   "outputs": [
    {
     "name": "stdout",
     "output_type": "stream",
     "text": [
      "65\n"
     ]
    }
   ],
   "source": [
    "#find second largest number\n",
    "n=[3,88,15,26,65,47]\n",
    "h=sorted(n)\n",
    "print(h[-2])\n",
    "\n"
   ]
  },
  {
   "cell_type": "code",
   "execution_count": 28,
   "metadata": {},
   "outputs": [
    {
     "name": "stdout",
     "output_type": "stream",
     "text": [
      "35\n",
      "70\n",
      "105\n",
      "140\n",
      "175\n"
     ]
    }
   ],
   "source": [
    "#find a number divisible by 7 and multiple of 5\n",
    "a=int(input(\"enter a number\"))\n",
    "h=1\n",
    "for i in range(1,a):\n",
    "    if i%7==0 and i%5==0:\n",
    "        print(i)\n",
    "\n"
   ]
  },
  {
   "cell_type": "code",
   "execution_count": 36,
   "metadata": {},
   "outputs": [
    {
     "data": {
      "text/plain": [
       "15"
      ]
     },
     "execution_count": 36,
     "metadata": {},
     "output_type": "execute_result"
    }
   ],
   "source": [
    "#sum of numbers to a limit\n",
    "def sum(number):\n",
    "    m=0\n",
    "    for i in range(1,number):\n",
    "        m=m+i\n",
    "    return m\n",
    "\n",
    "sum(number=6)      \n",
    "\n",
    "\n"
   ]
  },
  {
   "cell_type": "code",
   "execution_count": 33,
   "metadata": {},
   "outputs": [
    {
     "data": {
      "text/plain": [
       "15"
      ]
     },
     "execution_count": 33,
     "metadata": {},
     "output_type": "execute_result"
    }
   ],
   "source": [
    "#sum of numbers to a limit\n",
    "s=0\n",
    "for i in range(1,6):\n",
    "    s+=i\n",
    "s"
   ]
  },
  {
   "cell_type": "code",
   "execution_count": 41,
   "metadata": {},
   "outputs": [
    {
     "name": "stdout",
     "output_type": "stream",
     "text": [
      "-10\n",
      "-9\n",
      "-8\n",
      "-7\n",
      "-6\n",
      "-5\n",
      "-4\n",
      "-3\n",
      "-2\n",
      "-1\n"
     ]
    }
   ],
   "source": [
    "#display from -10 to -1\n",
    "for i in range(-10,0):\n",
    "    print(i)   "
   ]
  },
  {
   "cell_type": "code",
   "execution_count": 50,
   "metadata": {},
   "outputs": [
    {
     "data": {
      "text/plain": [
       "100"
      ]
     },
     "execution_count": 50,
     "metadata": {},
     "output_type": "execute_result"
    }
   ],
   "source": [
    "#find sum of cubes\n",
    "sum=0\n",
    "for i in range(1,5):\n",
    "   s=i**3 \n",
    "   sum+=s\n",
    "sum  \n",
    "    "
   ]
  },
  {
   "cell_type": "code",
   "execution_count": 54,
   "metadata": {},
   "outputs": [
    {
     "name": "stdout",
     "output_type": "stream",
     "text": [
      "1\n",
      "8\n",
      "27\n",
      "64\n"
     ]
    }
   ],
   "source": [
    "#display the cubes to a range\n",
    "for i in range(1,5):\n",
    "    i=i**3\n",
    "    print(i)"
   ]
  },
  {
   "cell_type": "code",
   "execution_count": 63,
   "metadata": {},
   "outputs": [
    {
     "name": "stdout",
     "output_type": "stream",
     "text": [
      "18\n"
     ]
    }
   ],
   "source": [
    "#calculate the length of a string without length function\n",
    "k=\"hi this is abhinav\"\n",
    "length=0\n",
    "for i in k:\n",
    "    # print(i)\n",
    "    length=length+1\n",
    "print(length)    \n",
    "    \n",
    "\n"
   ]
  },
  {
   "cell_type": "code",
   "execution_count": 67,
   "metadata": {},
   "outputs": [
    {
     "name": "stdout",
     "output_type": "stream",
     "text": [
      "4\n"
     ]
    }
   ],
   "source": [
    "#count the number of words in a string\n",
    "v=\"hi how are you\"\n",
    "d=v.split()\n",
    "print(len(d))\n"
   ]
  },
  {
   "cell_type": "code",
   "execution_count": 68,
   "metadata": {},
   "outputs": [
    {
     "name": "stdout",
     "output_type": "stream",
     "text": [
      "what-are-you-doing\n"
     ]
    }
   ],
   "source": [
    "#replace every blank space with a hyphen in a string\n",
    "u=\"what are you doing\" \n",
    "print(u.replace(\" \",(\"-\")))\n"
   ]
  },
  {
   "cell_type": "code",
   "execution_count": 69,
   "metadata": {},
   "outputs": [
    {
     "name": "stdout",
     "output_type": "stream",
     "text": [
      "8\n"
     ]
    }
   ],
   "source": [
    "#count the number of lowercase characters\n",
    "r=\"i AM gOinG TO mumBaI\"\n",
    "lower=0\n",
    "for i in r:\n",
    "    if i.islower():\n",
    "        lower+=1\n",
    "print(lower)        \n",
    "\n",
    "\n"
   ]
  }
 ],
 "metadata": {
  "kernelspec": {
   "display_name": "Python 3",
   "language": "python",
   "name": "python3"
  },
  "language_info": {
   "codemirror_mode": {
    "name": "ipython",
    "version": 3
   },
   "file_extension": ".py",
   "mimetype": "text/x-python",
   "name": "python",
   "nbconvert_exporter": "python",
   "pygments_lexer": "ipython3",
   "version": "3.10.4"
  }
 },
 "nbformat": 4,
 "nbformat_minor": 2
}
