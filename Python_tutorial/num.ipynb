{
 "cells": [
  {
   "cell_type": "code",
   "execution_count": 2,
   "metadata": {},
   "outputs": [
    {
     "name": "stdout",
     "output_type": "stream",
     "text": [
      "hai\n"
     ]
    }
   ],
   "source": [
    "a=\"hai\"\n",
    "print(a)"
   ]
  },
  {
   "cell_type": "code",
   "execution_count": 4,
   "metadata": {},
   "outputs": [
    {
     "name": "stdout",
     "output_type": "stream",
     "text": [
      "Collecting numpy\n",
      "  Downloading numpy-1.26.4-cp310-cp310-win_amd64.whl (15.8 MB)\n",
      "     ---------------------------------------- 15.8/15.8 MB 1.9 MB/s eta 0:00:00\n",
      "Installing collected packages: numpy\n",
      "Successfully installed numpy-1.26.4\n",
      "Note: you may need to restart the kernel to use updated packages.\n"
     ]
    },
    {
     "name": "stderr",
     "output_type": "stream",
     "text": [
      "WARNING: You are using pip version 22.0.4; however, version 24.0 is available.\n",
      "You should consider upgrading via the 'c:\\Users\\ABHINAV\\AppData\\Local\\Programs\\Python\\Python310\\python.exe -m pip install --upgrade pip' command.\n"
     ]
    }
   ],
   "source": [
    "pip install numpy\n"
   ]
  },
  {
   "cell_type": "code",
   "execution_count": 8,
   "metadata": {},
   "outputs": [],
   "source": [
    "import numpy"
   ]
  },
  {
   "cell_type": "code",
   "execution_count": 24,
   "metadata": {},
   "outputs": [
    {
     "name": "stdout",
     "output_type": "stream",
     "text": [
      "[1 2 3 4]\n"
     ]
    }
   ],
   "source": [
    "# zz=numpy.array([1,2,3,4])\n",
    "# print(zz)"
   ]
  },
  {
   "cell_type": "code",
   "execution_count": 30,
   "metadata": {},
   "outputs": [
    {
     "name": "stdout",
     "output_type": "stream",
     "text": [
      "[10 11 12 13 14]\n",
      "None\n"
     ]
    }
   ],
   "source": [
    "# print(type())\n"
   ]
  },
  {
   "cell_type": "code",
   "execution_count": 31,
   "metadata": {},
   "outputs": [
    {
     "name": "stdout",
     "output_type": "stream",
     "text": [
      "[0 7 8 9]\n"
     ]
    }
   ],
   "source": [
    "# hh=numpy.array((0,7,8,9))\n",
    "# print(hh)"
   ]
  },
  {
   "cell_type": "code",
   "execution_count": 37,
   "metadata": {},
   "outputs": [
    {
     "name": "stdout",
     "output_type": "stream",
     "text": [
      "10\n"
     ]
    }
   ],
   "source": [
    "# jj=numpy.array(10)\n",
    "# print(jj)"
   ]
  },
  {
   "cell_type": "code",
   "execution_count": 41,
   "metadata": {},
   "outputs": [
    {
     "name": "stdout",
     "output_type": "stream",
     "text": [
      "[[1 2 3 4]\n",
      " [5 6 7 8]]\n"
     ]
    }
   ],
   "source": [
    "# ac=numpy.array([[1,2,3,4],[5,6,7,8]])\n",
    "# print(ac)"
   ]
  },
  {
   "cell_type": "code",
   "execution_count": 43,
   "metadata": {},
   "outputs": [
    {
     "name": "stdout",
     "output_type": "stream",
     "text": [
      "[[[10 11 12 13]]\n",
      "\n",
      " [[14 15 16 17]]]\n"
     ]
    }
   ],
   "source": [
    "# bd=numpy.array([[[10,11,12,13]],[[14,15,16,17]]])\n",
    "# print(bd)"
   ]
  },
  {
   "cell_type": "code",
   "execution_count": 49,
   "metadata": {},
   "outputs": [
    {
     "name": "stdout",
     "output_type": "stream",
     "text": [
      "1\n",
      "0\n"
     ]
    }
   ],
   "source": [
    "#zero dimension\n",
    "kk=numpy.array(1)\n",
    "print(kk)\n",
    "print(kk.ndim)"
   ]
  },
  {
   "cell_type": "code",
   "execution_count": 45,
   "metadata": {},
   "outputs": [
    {
     "name": "stdout",
     "output_type": "stream",
     "text": [
      "[10 11 12]\n"
     ]
    }
   ],
   "source": [
    "#one dimension\n",
    "ss=numpy.array([10,11,12])\n",
    "print(ss)"
   ]
  },
  {
   "cell_type": "code",
   "execution_count": 48,
   "metadata": {},
   "outputs": [
    {
     "name": "stdout",
     "output_type": "stream",
     "text": [
      "[[20 21 22 23]\n",
      " [24 25 26 27]]\n",
      "2\n"
     ]
    }
   ],
   "source": [
    "# #two dimension\n",
    "# tt=numpy.array([[20,21,22,23],[24,25,26,27]])\n",
    "# print(tt)\n",
    "# print(tt.ndim)"
   ]
  },
  {
   "cell_type": "code",
   "execution_count": 60,
   "metadata": {},
   "outputs": [
    {
     "name": "stdout",
     "output_type": "stream",
     "text": [
      "[[[30 31 32]]\n",
      "\n",
      " [[34 35 36]]]\n"
     ]
    }
   ],
   "source": [
    "#three dimension\n",
    "# pp=numpy.array([[[30,31,32]],[[34,35,36]]])\n",
    "# print(pp)"
   ]
  },
  {
   "cell_type": "code",
   "execution_count": 3,
   "metadata": {},
   "outputs": [],
   "source": [
    "import numpy as np"
   ]
  },
  {
   "cell_type": "code",
   "execution_count": 58,
   "metadata": {},
   "outputs": [
    {
     "name": "stdout",
     "output_type": "stream",
     "text": [
      "[[[[[[[[1 2 3]]]]]]]]\n"
     ]
    }
   ],
   "source": [
    "# rr=np.array([1,2,3],ndmin=8)\n",
    "# print(rr)"
   ]
  },
  {
   "cell_type": "code",
   "execution_count": 67,
   "metadata": {},
   "outputs": [
    {
     "name": "stdout",
     "output_type": "stream",
     "text": [
      "7\n"
     ]
    }
   ],
   "source": [
    "# gg=np.array([1,2,3,4])\n",
    "# print(gg[2]+gg[3])\n"
   ]
  },
  {
   "cell_type": "code",
   "execution_count": 79,
   "metadata": {},
   "outputs": [
    {
     "name": "stdout",
     "output_type": "stream",
     "text": [
      "[[ 1  2  3  4  5]\n",
      " [ 6  7  8  9 10]]\n",
      "3\n"
     ]
    }
   ],
   "source": [
    "# zz=np.array([[1,2,3,4,5],[6,7,8,9,10]])\n",
    "# print(zz)\n",
    "# print(zz[0,2])\n"
   ]
  },
  {
   "cell_type": "code",
   "execution_count": 84,
   "metadata": {},
   "outputs": [
    {
     "name": "stdout",
     "output_type": "stream",
     "text": [
      "[[[ 1  2  3]\n",
      "  [ 4  5  6]]\n",
      "\n",
      " [[ 7  8  9]\n",
      "  [10 11 12]]]\n",
      "6\n"
     ]
    }
   ],
   "source": [
    "# cc=np.array([[[1,2,3],[4,5,6]],[[7,8,9],[10,11,12]]])\n",
    "# print(cc)\n",
    "# print(cc[0,1,2])"
   ]
  },
  {
   "cell_type": "code",
   "execution_count": 97,
   "metadata": {},
   "outputs": [
    {
     "name": "stdout",
     "output_type": "stream",
     "text": [
      "[ 1  2  3  4  5  6  7  8  9 10]\n",
      "[2 3 4 5 6]\n",
      "[5 6 7]\n",
      "[2 4 6 8]\n",
      "[1 3 5 7 9]\n"
     ]
    }
   ],
   "source": [
    "# ff=np.array([1,2,3,4,5,6,7,8,9,10])\n",
    "# print(ff)\n",
    "# print(ff[1:6])\n",
    "# print(ff[4:7])\n",
    "# print(ff[1:9:2])\n",
    "# print(ff[0:9:2])"
   ]
  },
  {
   "cell_type": "code",
   "execution_count": 121,
   "metadata": {},
   "outputs": [
    {
     "name": "stdout",
     "output_type": "stream",
     "text": [
      "[[ 8  9 10]]\n"
     ]
    }
   ],
   "source": [
    "# tt=np.array([[1,2,3,4,5],[6,7,8,9,10]])\n",
    "# # print(tt[1,1:4])\n",
    "# # print(tt[0,3:5])\n",
    "# print(tt[1:2,2:5])"
   ]
  },
  {
   "cell_type": "code",
   "execution_count": 128,
   "metadata": {},
   "outputs": [
    {
     "name": "stdout",
     "output_type": "stream",
     "text": [
      "['zero' 'one']\n"
     ]
    }
   ],
   "source": [
    "# dd=np.array([\"zero\",\"one\"])\n",
    "# print(dd[0:2])\n"
   ]
  },
  {
   "cell_type": "code",
   "execution_count": 138,
   "metadata": {},
   "outputs": [
    {
     "name": "stdout",
     "output_type": "stream",
     "text": [
      "[b'1' b'2' b'3' b'4' b'5']\n",
      "|S1\n"
     ]
    }
   ],
   "source": [
    "# yy=np.array([1,2,3,4,5],dtype=\"S\")\n",
    "# print(yy)\n",
    "# print(yy.dtype)"
   ]
  },
  {
   "cell_type": "code",
   "execution_count": 137,
   "metadata": {},
   "outputs": [
    {
     "name": "stdout",
     "output_type": "stream",
     "text": [
      "['read']\n",
      "<U4\n"
     ]
    }
   ],
   "source": [
    "rr=np.array([\"read\"])\n",
    "print(rr)\n",
    "print(rr.dtype)"
   ]
  },
  {
   "cell_type": "code",
   "execution_count": 141,
   "metadata": {},
   "outputs": [
    {
     "name": "stdout",
     "output_type": "stream",
     "text": [
      "[1 4 2]\n",
      "int32\n"
     ]
    }
   ],
   "source": [
    "AA=np.array([1.3,4.3,2.4],dtype=int)\n",
    "print(AA)\n",
    "print(AA.dtype)"
   ]
  },
  {
   "cell_type": "code",
   "execution_count": 11,
   "metadata": {},
   "outputs": [
    {
     "ename": "NameError",
     "evalue": "name 'AA' is not defined",
     "output_type": "error",
     "traceback": [
      "\u001b[1;31m---------------------------------------------------------------------------\u001b[0m",
      "\u001b[1;31mNameError\u001b[0m                                 Traceback (most recent call last)",
      "Cell \u001b[1;32mIn[11], line 1\u001b[0m\n\u001b[1;32m----> 1\u001b[0m ww\u001b[38;5;241m=\u001b[39m\u001b[43mAA\u001b[49m\u001b[38;5;241m.\u001b[39mastype(\u001b[38;5;124m\"\u001b[39m\u001b[38;5;124mi\u001b[39m\u001b[38;5;124m\"\u001b[39m)\n\u001b[0;32m      2\u001b[0m \u001b[38;5;28mprint\u001b[39m(ww)\n\u001b[0;32m      3\u001b[0m \u001b[38;5;28mprint\u001b[39m(ww\u001b[38;5;241m.\u001b[39mdtype)\n",
      "\u001b[1;31mNameError\u001b[0m: name 'AA' is not defined"
     ]
    }
   ],
   "source": [
    "ww=AA.astype(\"i\")\n",
    "print(ww)\n",
    "print(ww.dtype)"
   ]
  },
  {
   "cell_type": "code",
   "execution_count": 4,
   "metadata": {},
   "outputs": [
    {
     "name": "stdout",
     "output_type": "stream",
     "text": [
      "(4,)\n"
     ]
    }
   ],
   "source": [
    "# qq=np.array([10,11,12,13])\n",
    "# print(qq.shape)"
   ]
  },
  {
   "cell_type": "code",
   "execution_count": 5,
   "metadata": {},
   "outputs": [
    {
     "name": "stdout",
     "output_type": "stream",
     "text": [
      "(2, 4)\n"
     ]
    }
   ],
   "source": [
    "# ff=np.array([[25,26,27,28],[29,30,31,32]])\n",
    "# print(ff.shape)"
   ]
  },
  {
   "cell_type": "code",
   "execution_count": 6,
   "metadata": {},
   "outputs": [
    {
     "name": "stdout",
     "output_type": "stream",
     "text": [
      "(2, 1, 4)\n"
     ]
    }
   ],
   "source": [
    "#shaping\n",
    "# vv=np.array([[[19,20,21,22]],[[99,98,97,96]]])\n",
    "# print(vv.shape)"
   ]
  },
  {
   "cell_type": "code",
   "execution_count": 20,
   "metadata": {},
   "outputs": [
    {
     "name": "stdout",
     "output_type": "stream",
     "text": [
      "[[[ 1  2  3  4]\n",
      "  [ 5  6  7  8]\n",
      "  [ 9 10 11 12]]]\n"
     ]
    }
   ],
   "source": [
    "# #reshaping\n",
    "# ss=np.array([1,2,3,4,5,6,7,8,9,10,11,12])\n",
    "# print(ss.reshape(1,3,4))"
   ]
  },
  {
   "cell_type": "code",
   "execution_count": 22,
   "metadata": {},
   "outputs": [
    {
     "name": "stdout",
     "output_type": "stream",
     "text": [
      "[ 1  2  3  4  5  6  7  8  9 10]\n"
     ]
    }
   ],
   "source": [
    "# kk=np.array([1,2,3,4,5])\n",
    "# gg=np.array([6,7,8,9,10])\n",
    "# yy=np.concatenate([kk,gg])\n",
    "# print(yy)"
   ]
  },
  {
   "cell_type": "code",
   "execution_count": 30,
   "metadata": {},
   "outputs": [
    {
     "name": "stdout",
     "output_type": "stream",
     "text": [
      "[[ 1  2  3  4 10 11 12 13]\n",
      " [ 5  6  7  8 14 15 16 17]]\n"
     ]
    }
   ],
   "source": [
    "# zz=np.array([[1,2,3,4],[5,6,7,8]])\n",
    "# yy=np.array([[10,11,12,13],[14,15,16,17]])\n",
    "# hh=np.concatenate([zz,yy],axis=1)\n",
    "# print(hh)"
   ]
  },
  {
   "cell_type": "code",
   "execution_count": 33,
   "metadata": {},
   "outputs": [
    {
     "name": "stdout",
     "output_type": "stream",
     "text": [
      "[[[ 1  2  3  4 10 11 12 13]]\n",
      "\n",
      " [[ 5  6  7  8 14 15 16 17]]]\n"
     ]
    }
   ],
   "source": [
    "# pp=np.array([[[1,2,3,4]],[[5,6,7,8]]])\n",
    "# nn=np.array([[[10,11,12,13]],[[14,15,16,17]]])\n",
    "# ff=np.concatenate([pp,nn],axis=2)\n",
    "# print(ff)"
   ]
  },
  {
   "cell_type": "code",
   "execution_count": 38,
   "metadata": {},
   "outputs": [
    {
     "name": "stdout",
     "output_type": "stream",
     "text": [
      "[[ 1  2  3  4  5]\n",
      " [ 6  7  8  9 10]]\n"
     ]
    }
   ],
   "source": [
    "# #stack\n",
    "# tt=np.array([1,2,3,4,5])\n",
    "# mm=np.array([6,7,8,9,10])\n",
    "# nn=np.stack([tt,mm])\n",
    "# print(nn)"
   ]
  },
  {
   "cell_type": "code",
   "execution_count": 41,
   "metadata": {},
   "outputs": [
    {
     "name": "stdout",
     "output_type": "stream",
     "text": [
      "[ 1  2  3  4  5  6  7  8  9 10]\n"
     ]
    }
   ],
   "source": [
    "# # tt=np.array([1,2,3,4,5])\n",
    "# mm=np.array([6,7,8,9,10])\n",
    "# nn=np.hstack([tt,mm])\n",
    "# print(nn)"
   ]
  },
  {
   "cell_type": "code",
   "execution_count": 42,
   "metadata": {},
   "outputs": [
    {
     "name": "stdout",
     "output_type": "stream",
     "text": [
      "[[[ 1  6]\n",
      "  [ 2  7]\n",
      "  [ 3  8]\n",
      "  [ 4  9]\n",
      "  [ 5 10]]]\n"
     ]
    }
   ],
   "source": [
    "# tt=np.array([1,2,3,4,5])\n",
    "# mm=np.array([6,7,8,9,10])\n",
    "# nn=np.dstack([tt,mm])\n",
    "# print(nn)"
   ]
  },
  {
   "cell_type": "code",
   "execution_count": 43,
   "metadata": {},
   "outputs": [
    {
     "name": "stdout",
     "output_type": "stream",
     "text": [
      "[[ 1  2  3  4  5]\n",
      " [ 6  7  8  9 10]]\n"
     ]
    }
   ],
   "source": [
    "# tt=np.array([1,2,3,4,5])\n",
    "# mm=np.array([6,7,8,9,10])\n",
    "# nn=np.vstack([tt,mm])\n",
    "# print(nn)"
   ]
  },
  {
   "cell_type": "code",
   "execution_count": 50,
   "metadata": {},
   "outputs": [
    {
     "name": "stdout",
     "output_type": "stream",
     "text": [
      "[array([1, 2]), array([3, 4]), array([5])]\n"
     ]
    }
   ],
   "source": [
    "#split\n",
    "# tt=np.array([1,2,3,4,5])\n",
    "# hh=np.array_split(tt,3)\n",
    "# print(hh)"
   ]
  },
  {
   "cell_type": "code",
   "execution_count": null,
   "metadata": {},
   "outputs": [],
   "source": [
    "# hh=np.array([1,2,3,4])\n",
    "# kk=np.array((5,6,7,8))"
   ]
  },
  {
   "cell_type": "code",
   "execution_count": 52,
   "metadata": {},
   "outputs": [
    {
     "name": "stdout",
     "output_type": "stream",
     "text": [
      "[0. 0. 0. 0. 0. 0. 0. 0. 0. 0.]\n"
     ]
    }
   ],
   "source": [
    "#zeros concept\n",
    "# qq=np.zeros(10)\n",
    "# print(qq)"
   ]
  },
  {
   "cell_type": "code",
   "execution_count": 61,
   "metadata": {},
   "outputs": [
    {
     "name": "stdout",
     "output_type": "stream",
     "text": [
      "[[0. 0.]\n",
      " [0. 0.]\n",
      " [0. 0.]]\n"
     ]
    }
   ],
   "source": [
    "# hh=np.zeros((3,2))\n",
    "# print(hh)"
   ]
  },
  {
   "cell_type": "code",
   "execution_count": 62,
   "metadata": {},
   "outputs": [
    {
     "name": "stdout",
     "output_type": "stream",
     "text": [
      "[[[0. 0. 0. 0.]\n",
      "  [0. 0. 0. 0.]\n",
      "  [0. 0. 0. 0.]]\n",
      "\n",
      " [[0. 0. 0. 0.]\n",
      "  [0. 0. 0. 0.]\n",
      "  [0. 0. 0. 0.]]]\n"
     ]
    }
   ],
   "source": [
    "# kk=np.zeros((2,3,4))\n",
    "# print(kk)"
   ]
  },
  {
   "cell_type": "code",
   "execution_count": 63,
   "metadata": {},
   "outputs": [
    {
     "name": "stdout",
     "output_type": "stream",
     "text": [
      "[1. 1. 1.]\n"
     ]
    }
   ],
   "source": [
    "#ones concept\n",
    "# bb=np.ones(3)\n",
    "# print(bb)"
   ]
  },
  {
   "cell_type": "code",
   "execution_count": 65,
   "metadata": {},
   "outputs": [
    {
     "name": "stdout",
     "output_type": "stream",
     "text": [
      "[[1. 1. 1.]\n",
      " [1. 1. 1.]]\n"
     ]
    }
   ],
   "source": [
    "# hh=np.ones((2,3))\n",
    "# print(hh)"
   ]
  },
  {
   "cell_type": "code",
   "execution_count": 66,
   "metadata": {},
   "outputs": [
    {
     "name": "stdout",
     "output_type": "stream",
     "text": [
      "[[[1. 1. 1.]\n",
      "  [1. 1. 1.]]]\n"
     ]
    }
   ],
   "source": [
    "# kk=np.ones((1,2,3))\n",
    "# print(kk)"
   ]
  },
  {
   "cell_type": "code",
   "execution_count": 68,
   "metadata": {},
   "outputs": [
    {
     "name": "stdout",
     "output_type": "stream",
     "text": [
      "[ 1  2  3  4  5  6  7  8  9 10]\n"
     ]
    }
   ],
   "source": [
    "#arange function\n",
    "# mm=np.arange(1,11)\n",
    "# print(mm)"
   ]
  },
  {
   "cell_type": "code",
   "execution_count": 72,
   "metadata": {},
   "outputs": [
    {
     "name": "stdout",
     "output_type": "stream",
     "text": [
      "[10 15 20 25 30 35 40 45 50]\n"
     ]
    }
   ],
   "source": [
    "# ss=np.arange(10,51,5)\n",
    "# print(ss)"
   ]
  },
  {
   "cell_type": "code",
   "execution_count": 74,
   "metadata": {},
   "outputs": [
    {
     "name": "stdout",
     "output_type": "stream",
     "text": [
      "[15 15 15 15 15 15 15 15 15 15]\n"
     ]
    }
   ],
   "source": [
    "# yy=np.full(10,15)\n",
    "# print(yy)"
   ]
  },
  {
   "cell_type": "code",
   "execution_count": 90,
   "metadata": {},
   "outputs": [
    {
     "name": "stdout",
     "output_type": "stream",
     "text": [
      "[[12 12]\n",
      " [12 12]]\n"
     ]
    }
   ],
   "source": [
    "# jj=np.full((2,2),12)\n",
    "# print(jj)"
   ]
  },
  {
   "cell_type": "code",
   "execution_count": 91,
   "metadata": {},
   "outputs": [
    {
     "name": "stdout",
     "output_type": "stream",
     "text": [
      "[[12 12 12]\n",
      " [12 12 12]\n",
      " [12 12 12]]\n"
     ]
    }
   ],
   "source": [
    "# vv=np.full((3,3),12)\n",
    "# print(vv)"
   ]
  },
  {
   "cell_type": "code",
   "execution_count": 95,
   "metadata": {},
   "outputs": [
    {
     "name": "stdout",
     "output_type": "stream",
     "text": [
      "[4 0 9 0 8]\n"
     ]
    }
   ],
   "source": [
    "#random.randint\n",
    "# dd=np.random.randint(0,10,5)\n",
    "# print(dd)\n"
   ]
  },
  {
   "cell_type": "code",
   "execution_count": 94,
   "metadata": {},
   "outputs": [
    {
     "name": "stdout",
     "output_type": "stream",
     "text": [
      "[ 6 14  9  2  3 12]\n"
     ]
    }
   ],
   "source": [
    "# pp=np.random.randint(1,20,6)\n",
    "# print(pp)"
   ]
  },
  {
   "cell_type": "code",
   "execution_count": 96,
   "metadata": {},
   "outputs": [
    {
     "name": "stdout",
     "output_type": "stream",
     "text": [
      "[6 8 8]\n"
     ]
    }
   ],
   "source": [
    "# aa=np.random.randint(5,10,3)\n",
    "# print(aa)"
   ]
  },
  {
   "cell_type": "code",
   "execution_count": 121,
   "metadata": {},
   "outputs": [
    {
     "name": "stdout",
     "output_type": "stream",
     "text": [
      "[[28 37 29]\n",
      " [38 29 38]]\n"
     ]
    }
   ],
   "source": [
    "# tt=np.random.randint(20,40,(2,3))\n",
    "# print(tt)"
   ]
  },
  {
   "cell_type": "code",
   "execution_count": 124,
   "metadata": {},
   "outputs": [
    {
     "name": "stdout",
     "output_type": "stream",
     "text": [
      "[0.96422403 0.80315107 0.43746497 0.57742681]\n"
     ]
    }
   ],
   "source": [
    "#random.random\n",
    "# hh=np.random.random(4)\n",
    "# print(hh)"
   ]
  },
  {
   "cell_type": "code",
   "execution_count": 127,
   "metadata": {},
   "outputs": [
    {
     "name": "stdout",
     "output_type": "stream",
     "text": [
      "[[0.93489192 0.35594014 0.08080313 0.54642331 0.87706499 0.58856079]\n",
      " [0.88863235 0.30816661 0.2050008  0.79301106 0.01151624 0.91267106]\n",
      " [0.75445663 0.612995   0.92293821 0.41341568 0.35934761 0.46920203]\n",
      " [0.12320327 0.73919039 0.05020934 0.29042919 0.62251234 0.83521816]]\n"
     ]
    }
   ],
   "source": [
    "# mm=np.random.random((4,6))\n",
    "# print(mm)"
   ]
  }
 ],
 "metadata": {
  "kernelspec": {
   "display_name": "Python 3",
   "language": "python",
   "name": "python3"
  },
  "language_info": {
   "codemirror_mode": {
    "name": "ipython",
    "version": 3
   },
   "file_extension": ".py",
   "mimetype": "text/x-python",
   "name": "python",
   "nbconvert_exporter": "python",
   "pygments_lexer": "ipython3",
   "version": "3.10.4"
  }
 },
 "nbformat": 4,
 "nbformat_minor": 2
}
